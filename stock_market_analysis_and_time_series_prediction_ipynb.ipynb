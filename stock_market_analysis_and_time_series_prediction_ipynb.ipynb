{
  "nbformat": 4,
  "nbformat_minor": 0,
  "metadata": {
    "colab": {
      "name": "stock-market-analysis-and-time-series-prediction.ipynb.ipynb",
      "provenance": [],
      "private_outputs": true
    },
    "kernelspec": {
      "name": "python3",
      "display_name": "Python 3"
    },
    "accelerator": "GPU"
  },
  "cells": [
    {
      "cell_type": "code",
      "metadata": {
        "id": "axfAV1JmcZkF",
        "colab_type": "code",
        "colab": {}
      },
      "source": [
        "import numpy as np # linear algebra\n",
        "import pandas as pd # data processing, CSV file I/O (e.g. pd.read_csv)\n",
        "import os\n",
        "from subprocess import check_output\n",
        "import seaborn as sns\n",
        "import matplotlib.pyplot as plt\n",
        "import warnings\n",
        "from pandas.plotting import lag_plot\n",
        "from pandas import datetime\n",
        "from statsmodels.tsa.arima_model import ARIMA\n",
        "from sklearn.metrics import mean_squared_error\n",
        "import chart_studio.plotly as py\n",
        "import plotly.graph_objs as go\n",
        "import cufflinks as cf"
      ],
      "execution_count": 0,
      "outputs": []
    },
    {
      "cell_type": "code",
      "metadata": {
        "id": "2DsIl2IqMuWi",
        "colab_type": "code",
        "colab": {}
      },
      "source": [
        "warnings.filterwarnings('ignore')"
      ],
      "execution_count": 0,
      "outputs": []
    },
    {
      "cell_type": "code",
      "metadata": {
        "id": "j9wsAxuMrb_v",
        "colab_type": "code",
        "colab": {}
      },
      "source": [
        "cf.set_config_file(theme='ggplot',sharing='piblic',offline=True)"
      ],
      "execution_count": 0,
      "outputs": []
    },
    {
      "cell_type": "code",
      "metadata": {
        "id": "95e-MpUZdSx4",
        "colab_type": "code",
        "colab": {}
      },
      "source": [
        "\n",
        "df = pd.read_csv(\"/content/IBULHSGFIN.csv\")\n",
        "df.head()"
      ],
      "execution_count": 0,
      "outputs": []
    },
    {
      "cell_type": "code",
      "metadata": {
        "id": "a3ZnSWPDhDJ9",
        "colab_type": "code",
        "colab": {}
      },
      "source": [
        ""
      ],
      "execution_count": 0,
      "outputs": []
    },
    {
      "cell_type": "code",
      "metadata": {
        "id": "ZeO9r6WZhgP1",
        "colab_type": "code",
        "colab": {}
      },
      "source": [
        "df.isnull().sum()"
      ],
      "execution_count": 0,
      "outputs": []
    },
    {
      "cell_type": "code",
      "metadata": {
        "id": "fHR1ZxtHjuCh",
        "colab_type": "code",
        "colab": {}
      },
      "source": [
        "df"
      ],
      "execution_count": 0,
      "outputs": []
    },
    {
      "cell_type": "code",
      "metadata": {
        "id": "CVNXQ25Vh_PK",
        "colab_type": "code",
        "colab": {}
      },
      "source": [
        ""
      ],
      "execution_count": 0,
      "outputs": []
    },
    {
      "cell_type": "code",
      "metadata": {
        "id": "OFsHDtdFegv3",
        "colab_type": "code",
        "colab": {}
      },
      "source": [
        "df1 = pd.DataFrame(df) \n",
        "  \n",
        "# using isnull() function   \n",
        "df1.isnull()\n",
        "df1.fillna(method = 'pad',inplace=True) "
      ],
      "execution_count": 0,
      "outputs": []
    },
    {
      "cell_type": "code",
      "metadata": {
        "id": "mTJLP76Ij0dv",
        "colab_type": "code",
        "colab": {}
      },
      "source": [
        "df1.isnull().sum()"
      ],
      "execution_count": 0,
      "outputs": []
    },
    {
      "cell_type": "code",
      "metadata": {
        "id": "_oP7w-vTiGyP",
        "colab_type": "code",
        "colab": {}
      },
      "source": [
        "df=df1"
      ],
      "execution_count": 0,
      "outputs": []
    },
    {
      "cell_type": "code",
      "metadata": {
        "id": "cG6exgnwRiyr",
        "colab_type": "code",
        "colab": {}
      },
      "source": [
        "print(df.head())\n",
        "print(df.shape)\n",
        "print(df.columns)"
      ],
      "execution_count": 0,
      "outputs": []
    },
    {
      "cell_type": "code",
      "metadata": {
        "id": "3Kmwz0rPoGQW",
        "colab_type": "code",
        "colab": {}
      },
      "source": [
        "series = df['Close'].value_counts()\n",
        "series.head(3)"
      ],
      "execution_count": 0,
      "outputs": []
    },
    {
      "cell_type": "code",
      "metadata": {
        "id": "NrVHfbHDtnhA",
        "colab_type": "code",
        "colab": {}
      },
      "source": [
        ""
      ],
      "execution_count": 0,
      "outputs": []
    },
    {
      "cell_type": "code",
      "metadata": {
        "id": "pPEj85rHTciX",
        "colab_type": "code",
        "colab": {}
      },
      "source": [
        "df[['Close']].plot()\n",
        "#plt.title(\"Tesla\")\n",
        "plt.show()"
      ],
      "execution_count": 0,
      "outputs": []
    },
    {
      "cell_type": "code",
      "metadata": {
        "id": "iBEM_r0XTgX2",
        "colab_type": "code",
        "colab": {}
      },
      "source": [
        "#Comulative Returns\n",
        "dr=df.cumsum()\n",
        "dr.plot()\n",
        "plt.title('IndiaB Cumulative Returns')"
      ],
      "execution_count": 0,
      "outputs": []
    },
    {
      "cell_type": "code",
      "metadata": {
        "id": "mKWSyqCGonSW",
        "colab_type": "code",
        "colab": {}
      },
      "source": [
        "plt.figure(figsize=(10,10))\n",
        "lag_plot(df['Open'],lag=5)\n",
        "plt.title('IndiaB Autocorrection plot')"
      ],
      "execution_count": 0,
      "outputs": []
    },
    {
      "cell_type": "markdown",
      "metadata": {
        "id": "Obf35UNeW0yj",
        "colab_type": "text"
      },
      "source": [
        "# ARIMA (AutoRegressive Integrated Moving Average)\n",
        "## for Time series Prediction"
      ]
    },
    {
      "cell_type": "code",
      "metadata": {
        "id": "El_z6qrRpEqD",
        "colab_type": "code",
        "colab": {}
      },
      "source": [
        "df['Date'][1230]"
      ],
      "execution_count": 0,
      "outputs": []
    },
    {
      "cell_type": "code",
      "metadata": {
        "id": "CcXZsiWhXJEH",
        "colab_type": "code",
        "colab": {}
      },
      "source": [
        "train_data,test_data = df[0:int(len(df)*0.8)],df[int(len(df)*0.8):]\n",
        "plt.figure(figsize=(10,10))\n",
        "plt.title('IndiaB Prices')\n",
        "plt.xlabel('Dates')\n",
        "plt.ylabel('Prices')\n",
        "plt.plot(df['Open'],'blue',label='Training Data')\n",
        "plt.plot(test_data['Open'],'green',label='Testing Data')\n",
        "plt.xticks(np.arange(0,1230,300),df['Date'][0:1230:300])\n",
        "plt.legend()"
      ],
      "execution_count": 0,
      "outputs": []
    },
    {
      "cell_type": "code",
      "metadata": {
        "id": "kVe4tkmHY--0",
        "colab_type": "code",
        "colab": {}
      },
      "source": [
        "def smape_kun(y_true,y_pred):\n",
        "  return np.mean((np.abs(y_pred - y_true)*200/ (np.abs(y_pred)+np.abs(y_true))))"
      ],
      "execution_count": 0,
      "outputs": []
    },
    {
      "cell_type": "code",
      "metadata": {
        "id": "3gaUWlhGZ4e8",
        "colab_type": "code",
        "colab": {}
      },
      "source": [
        "train_ar = train_data['Open'].values\n",
        "test_ar = test_data['Open'].values\n",
        "\n",
        "\n",
        "history = [x for x in train_ar]\n",
        "print(type(history))\n",
        "predictions = list()\n",
        "for t in range(len(test_ar)):\n",
        "    model = ARIMA(history, order=(5,1,0))\n",
        "    #model_fit = model.fit(disp=5)\n",
        "    model_fit = model.fit(disp=0)\n",
        "    output = model_fit.forecast()\n",
        "    yhat = output[0]\n",
        "    predictions.append(yhat)\n",
        "    obs = test_ar[t]\n",
        "    history.append(obs)\n",
        "    #print('predicted=%f, expected=%f' % (yhat, obs))\n",
        "error = mean_squared_error(test_ar, predictions)\n",
        "print('Testing Mean Squared Error: %.3f' % error)\n",
        "error2 = smape_kun(test_ar, predictions)\n",
        "print('Symmetric mean absolute percentage error: %.3f' % error2)"
      ],
      "execution_count": 0,
      "outputs": []
    },
    {
      "cell_type": "code",
      "metadata": {
        "id": "NyoXCBW_bmg8",
        "colab_type": "code",
        "colab": {}
      },
      "source": [
        "\n",
        "plt.figure(figsize=(12,10))\n",
        "plt.plot(df['Open'], 'green', color='blue', label='Training Data')\n",
        "plt.plot(test_data.index, predictions, color='green', marker='o', linestyle='dashed', \n",
        "         label='Predicted Price')\n",
        "plt.plot(test_data.index, test_data['Open'], color='red', label='Actual Price')\n",
        "plt.title('IndiaB Prices Prediction')\n",
        "plt.xlabel('Dates')\n",
        "plt.ylabel('Prices')\n",
        "plt.xticks(np.arange(0,1230, 300), df['Date'][0:1230:300])\n",
        "plt.legend()"
      ],
      "execution_count": 0,
      "outputs": []
    },
    {
      "cell_type": "code",
      "metadata": {
        "id": "6mRoym2plQq9",
        "colab_type": "code",
        "colab": {}
      },
      "source": [
        "test_data['Date'][0:1230:10]"
      ],
      "execution_count": 0,
      "outputs": []
    },
    {
      "cell_type": "code",
      "metadata": {
        "id": "7TzjINbKlWHI",
        "colab_type": "code",
        "colab": {}
      },
      "source": [
        "plt.figure(figsize=(12,10))\n",
        "plt.plot(test_data.index, predictions, color='green', marker='o', linestyle='dashed', \n",
        "         label='Predicted Price')\n",
        "plt.plot(test_data.index, test_data['Open'], color='red', label='Actual Price')\n",
        "plt.xticks(np.arange(960,1230, 25), df['Date'][960:1230:25])\n",
        "plt.title('IndiaB Prices Prediction')\n",
        "plt.xlabel('Dates')\n",
        "plt.ylabel('Prices')\n",
        "plt.legend()"
      ],
      "execution_count": 0,
      "outputs": []
    },
    {
      "cell_type": "code",
      "metadata": {
        "id": "orRlfO1QlvbY",
        "colab_type": "code",
        "colab": {}
      },
      "source": [
        ""
      ],
      "execution_count": 0,
      "outputs": []
    }
  ]
}